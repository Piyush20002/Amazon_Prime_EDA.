{
  "nbformat": 4,
  "nbformat_minor": 0,
  "metadata": {
    "colab": {
      "private_outputs": true,
      "provenance": [],
      "collapsed_sections": [
        "t6dVpIINYklI",
        "ijmpgYnKYklI",
        "-JiQyfWJYklI",
        "fge-S5ZAYoAp",
        "85gYPyotYoAp",
        "RoGjAbkUYoAp",
        "iky9q4vBYrdO",
        "F6T5p64dYrdO",
        "QHF8YVU7Yuh3",
        "GwzvFGzlYuh3",
        "bbFf2-_FphqN",
        "_ouA3fa0phqN",
        "t27r6nlMphqO",
        "r2jJGEOYphqO",
        "jj7wYXLtphqO",
        "eZrbJ2SmphqO",
        "gCFgpxoyphqP",
        "OVtJsKN_phqQ",
        "1M8mcRywphqQ",
        "tgIPom80phqQ",
        "X_VqEhTip1ck",
        "8zGJKyg5p1ck"
      ],
      "include_colab_link": true
    },
    "kernelspec": {
      "name": "python3",
      "display_name": "Python 3"
    },
    "language_info": {
      "name": "python"
    }
  },
  "cells": [
    {
      "cell_type": "markdown",
      "metadata": {
        "id": "view-in-github",
        "colab_type": "text"
      },
      "source": [
        "<a href=\"https://colab.research.google.com/github/Piyush20002/Amazon_Prime_EDA./blob/main/Amazon_Prime_EDA.ipynb\" target=\"_parent\"><img src=\"https://colab.research.google.com/assets/colab-badge.svg\" alt=\"Open In Colab\"/></a>"
      ]
    },
    {
      "cell_type": "markdown",
      "source": [
        "# **Project Name**    -\n",
        "Amazon EDA\n"
      ],
      "metadata": {
        "id": "vncDsAP0Gaoa"
      }
    },
    {
      "cell_type": "markdown",
      "source": [
        "##### **Project Type**    - EDA\n",
        "##### **Contribution**    - Individual\n",
        "by Piyush Chaudhari\n"
      ],
      "metadata": {
        "id": "beRrZCGUAJYm"
      }
    },
    {
      "cell_type": "markdown",
      "source": [
        "# **Project Summary -**"
      ],
      "metadata": {
        "id": "FJNUwmbgGyua"
      }
    },
    {
      "cell_type": "markdown",
      "source": [
        "\n",
        " This project aims to conduct an Exploratory Data Analysis (EDA) on the Amazon Prime Video content library, focusing on TV shows and movies available in the United States. The analysis will leverage two datasets: \"titles.csv\", containing information about the titles (ID, name, type, description, release year, age certification, runtime, genres, production countries, seasons, IMDb/TMDB scores, and popularity), and \"credits.csv\", which provides details about the cast and crew (person ID, title ID, name, character name, and role).\n",
        "\n",
        " The primary objective is to extract valuable insights into Amazon Prime's content strategy, audience preferences, and market trends. Specifically, the EDA will address key problem statements such as:\n",
        "* Content Diversity: Identifying dominant genres and categories on the platform.\n",
        "* Regional Availability: Understanding how content distribution varies (though the dataset is US-specific, this might involve looking at production countries).\n",
        "* Trends Over Time: Analyzing the evolution of Amazon Prime's content library over the years.\n",
        "* IMDb Ratings & Popularity: Discovering the highest-rated and most popular shows/movies.\n",
        "\n",
        "Through comprehensive data cleaning, manipulation, and visualization, this analysis will uncover patterns and relationships within the data. Various charts, including univariate, bivariate, and multivariate analyses, will be employed to present findings clearly. Each visualization will be accompanied by an explanation of why it was chosen, the insights derived, and its potential business impact (positive or negative growth). The goal is to provide data-driven recommendations that can influence subscription growth, enhance user engagement, and optimize content investment strategies in the competitive streaming industry. The final output will be a well-structured and commented Python notebook, adhering to best practices for production-grade code.\n"
      ],
      "metadata": {
        "id": "F6v_1wHtG2nS"
      }
    },
    {
      "cell_type": "markdown",
      "source": [
        "# **GitHub Link -**"
      ],
      "metadata": {
        "id": "w6K7xa23Elo4"
      }
    },
    {
      "cell_type": "markdown",
      "source": [
        "https://github.com/Piyush20002/Amazon_Prime_EDA."
      ],
      "metadata": {
        "id": "h1o69JH3Eqqn"
      }
    },
    {
      "cell_type": "markdown",
      "source": [
        "# **Problem Statement**\n"
      ],
      "metadata": {
        "id": "yQaldy8SH6Dl"
      }
    },
    {
      "cell_type": "markdown",
      "source": [
        "To analyze the extensive dataset of Amazon Prime Video content (TV shows and movies) and their associated cast/crew to uncover key trends, audience preferences, and content performance metrics. The analysis aims to provide actionable insights for optimizing content strategy, improving user engagement, and driving subscription growth.\n",
        "\n",
        "The primary objective is to extract valuable insights into Amazon Prime's content strategy, audience preferences, and market trends. Specifically, the EDA will address key problem statements such as:\n",
        "* Content Diversity: Identifying dominant genres and categories on the platform.\n",
        "* Regional Availability: Understanding how content distribution varies (though the dataset is US-specific, this might involve looking at production countries).\n",
        "* Trends Over Time: Analyzing the evolution of Amazon Prime's content library over the years.\n",
        "* IMDb Ratings & Popularity: Discovering the highest-rated and most popular shows/movies."
      ],
      "metadata": {
        "id": "DpeJGUA3kjGy"
      }
    },
    {
      "cell_type": "markdown",
      "source": [
        "#### **Define Your Business Objective?**"
      ],
      "metadata": {
        "id": "PH-0ReGfmX4f"
      }
    },
    {
      "cell_type": "markdown",
      "source": [
        "The business objective is to gain a deeper understanding of the Amazon Prime Video content ecosystem to inform strategic decisions related to content acquisition, production, and marketing. This includes:\n",
        "1.  Identifying popular content types and genres: To prioritize future content investments.\n",
        "2.  Understanding content performance: Analyzing IMDb/TMDB scores and popularity to gauge audience reception.\n",
        "3.  Tracking content evolution: Observing trends in content release over time to adapt to changing market demands.\n",
        "4.  Optimizing content library diversity: Ensuring a balanced mix of content to appeal to a broad audience.\n",
        "5.  Leveraging cast/crew data: Understanding the impact of actors/directors on content popularity."
      ],
      "metadata": {
        "id": "PhDvGCAqmjP1"
      }
    },
    {
      "cell_type": "markdown",
      "source": [
        "## ***1. Know Your Data***"
      ],
      "metadata": {
        "id": "HhfV-JJviCcP"
      }
    },
    {
      "cell_type": "markdown",
      "source": [
        "### Import Libraries"
      ],
      "metadata": {
        "id": "Y3lxredqlCYt"
      }
    },
    {
      "cell_type": "code",
      "source": [
        "# Import Libraries\n",
        "import pandas as pd\n",
        "import numpy as np\n",
        "import matplotlib.pyplot as plt\n",
        "import seaborn as sns\n",
        "import missingno as msno\n",
        "import warnings\n",
        "warnings.filterwarnings('ignore')\n",
        "import ast # For safely evaluating string literals of lists\n"
      ],
      "metadata": {
        "id": "M8Vqi-pPk-HR"
      },
      "execution_count": null,
      "outputs": []
    },
    {
      "cell_type": "code",
      "source": [
        "# Set plot style\n",
        "sns.set_style(\"whitegrid\")\n",
        "plt.rcParams['figure.figsize'] = (12, 6)\n",
        "plt.rcParams['font.size'] = 12"
      ],
      "metadata": {
        "id": "2RQt_vIm52oc"
      },
      "execution_count": null,
      "outputs": []
    },
    {
      "cell_type": "markdown",
      "source": [
        "### Dataset Loading"
      ],
      "metadata": {
        "id": "3RnN4peoiCZX"
      }
    },
    {
      "cell_type": "code",
      "source": [
        "# Load Dataset\n",
        "try:\n",
        "    titles_df = pd.read_csv('titles.csv')\n",
        "    credits_df = pd.read_csv('credits.csv')\n",
        "    print(\"Datasets loaded successfully.\")\n",
        "except FileNotFoundError as e:\n",
        "    print(f\"Error loading file: {e}. Please ensure 'titles.csv' and 'credits.csv' are in the correct directory.\")\n",
        "    exit() # Exit if files are not found"
      ],
      "metadata": {
        "id": "4CkvbW_SlZ_R"
      },
      "execution_count": null,
      "outputs": []
    },
    {
      "cell_type": "markdown",
      "source": [
        "### Dataset First View"
      ],
      "metadata": {
        "id": "x71ZqKXriCWQ"
      }
    },
    {
      "cell_type": "code",
      "source": [
        "# Dataset First Look\n",
        "titles_df.head()\n"
      ],
      "metadata": {
        "id": "LWNFOSvLl09H"
      },
      "execution_count": null,
      "outputs": []
    },
    {
      "cell_type": "code",
      "source": [
        "credits_df.head()"
      ],
      "metadata": {
        "id": "ftxEsgtn6nls"
      },
      "execution_count": null,
      "outputs": []
    },
    {
      "cell_type": "markdown",
      "source": [
        "### Dataset Rows & Columns count"
      ],
      "metadata": {
        "id": "7hBIi_osiCS2"
      }
    },
    {
      "cell_type": "code",
      "source": [
        "# Dataset Rows & Columns count\n",
        "print(f\"Titles Dataset - Rows: {titles_df.shape[0]}, Columns: {titles_df.shape[1]}\")\n",
        "print(f\"Credits Dataset - Rows: {credits_df.shape[0]}, Columns: {credits_df.shape[1]}\")\n"
      ],
      "metadata": {
        "id": "Kllu7SJgmLij"
      },
      "execution_count": null,
      "outputs": []
    },
    {
      "cell_type": "markdown",
      "source": [
        "### Dataset Information"
      ],
      "metadata": {
        "id": "JlHwYmJAmNHm"
      }
    },
    {
      "cell_type": "code",
      "source": [
        "# Dataset Info\n",
        "titles_df.info()\n",
        "\n",
        "credits_df.info()\n"
      ],
      "metadata": {
        "id": "e9hRXRi6meOf"
      },
      "execution_count": null,
      "outputs": []
    },
    {
      "cell_type": "markdown",
      "source": [
        "#### Duplicate Values"
      ],
      "metadata": {
        "id": "35m5QtbWiB9F"
      }
    },
    {
      "cell_type": "code",
      "source": [
        "# Dataset Duplicate Value Count\n",
        "print(f\"Titles Dataset - Duplicate Rows: {titles_df.duplicated().sum()}\")\n",
        "print(f\"Credits Dataset - Duplicate Rows: {credits_df.duplicated().sum()}\")"
      ],
      "metadata": {
        "id": "1sLdpKYkmox0"
      },
      "execution_count": null,
      "outputs": []
    },
    {
      "cell_type": "markdown",
      "source": [
        "#### Missing Values/Null Values"
      ],
      "metadata": {
        "id": "PoPl-ycgm1ru"
      }
    },
    {
      "cell_type": "code",
      "source": [
        "# Missing Values/Null Values Count\n",
        "print(\"Missing Values in Titles Dataset:\")\n",
        "print(titles_df.isnull().sum())\n",
        "\n",
        "print(\"\\nMissing Values in Credits Dataset:\")\n",
        "print(credits_df.isnull().sum())"
      ],
      "metadata": {
        "id": "GgHWkxvamxVg"
      },
      "execution_count": null,
      "outputs": []
    },
    {
      "cell_type": "code",
      "source": [
        "# Percentage of null values in titles_df\n",
        "titles_null_percent = (titles_df.isnull().sum() / len(titles_df)) * 100\n",
        "titles_null_percent = titles_null_percent[titles_null_percent > 0].sort_values(ascending=False)\n",
        "\n",
        "print(\"Percentage of Null Values in Titles Dataset:\")\n",
        "print(titles_null_percent)\n",
        "\n"
      ],
      "metadata": {
        "id": "3q5wnI3om9sJ"
      },
      "execution_count": null,
      "outputs": []
    },
    {
      "cell_type": "code",
      "source": [
        "# Percentage of null values in credits_df\n",
        "credits_null_percent = (credits_df.isnull().sum() / len(credits_df)) * 100\n",
        "credits_null_percent = credits_null_percent[credits_null_percent > 0].sort_values(ascending=False)\n",
        "\n",
        "print(\"\\nPercentage of Null Values in Credits Dataset:\")\n",
        "print(credits_null_percent)\n"
      ],
      "metadata": {
        "id": "FuOUV6-0ApEo"
      },
      "execution_count": null,
      "outputs": []
    },
    {
      "cell_type": "code",
      "source": [
        "# Visualizing the missing values/ Null Values Count\n",
        "# Bar plot of null percentage for titles_df\n",
        "titles_null_percent.plot(kind='barh', color='salmon')\n",
        "plt.title('Percentage of Missing Values in Titles Dataset')\n",
        "plt.xlabel('Percentage')\n",
        "plt.gca().invert_yaxis()\n",
        "plt.show()\n",
        "# Bar plot of null percentage for credits_df\n",
        "credits_null_percent.plot(kind='barh', color='skyblue')\n",
        "plt.title('Percentage of Missing Values in Credits Dataset')\n",
        "plt.xlabel('Percentage')\n",
        "plt.gca().invert_yaxis()\n",
        "plt.show()\n"
      ],
      "metadata": {
        "id": "Zx3rUyZbAtUV"
      },
      "execution_count": null,
      "outputs": []
    },
    {
      "cell_type": "markdown",
      "source": [
        "### What did you know about your dataset?"
      ],
      "metadata": {
        "id": "H0kj-8xxnORC"
      }
    },
    {
      "cell_type": "markdown",
      "source": [
        "\n",
        "*The `titles.csv` dataset contains information about Amazon Prime Video titles, including their ID, name, type (movie/TV show), description, release year, age certification, runtime, genres, production countries, number of seasons, IMDb score, IMDb votes, TMDB popularity, and TMDB score. It has approximately 9600 entries and 15 columns.\n",
        "*Key observations from `titles_df`:\n",
        "* `description`, `age_certification`, `runtime`, `genres`, `production_countries`, `seasons`, `imdb_id`, `imdb_score`, `imdb_votes`, `tmdb_popularity`, and `tmdb_score` columns have missing values.\n",
        "* `seasons` column is specifically for TV shows and has a large number of missing values for movies, which is expected.\n",
        "* `imdb_id` is mostly missing, which might limit analysis based on external IMDb data if not handled carefully.\n",
        "* `genres` and `production_countries` are stored as string representations of lists, requiring parsing.\n",
        "\n",
        "*The `credits.csv` dataset contains information about the cast and crew (actors and directors) for each title. It includes person ID, title ID, name, character name, and role. It has over 124,000 entries and 5 columns.\n",
        "* Key observations from `credits_df`:\n",
        "* `character_name` has a significant number of missing values, which is expected as directors won't have a character name.\n",
        "* Both datasets have `id` columns which can be used for merging.\n",
        "* There are no duplicate rows in either dataset after initial checks."
      ],
      "metadata": {
        "id": "gfoNAAC-nUe_"
      }
    },
    {
      "cell_type": "markdown",
      "source": [
        "## ***2. Understanding Your Variables***"
      ],
      "metadata": {
        "id": "nA9Y7ga8ng1Z"
      }
    },
    {
      "cell_type": "code",
      "source": [
        "# Dataset Columns\n",
        "print(\"Titles Dataset Columns:\")\n",
        "print(titles_df.columns)\n",
        "\n",
        "print(\"\\nCredits Dataset Columns:\")\n",
        "print(credits_df.columns)\n",
        "\n",
        "\n"
      ],
      "metadata": {
        "id": "j7xfkqrt5Ag5"
      },
      "execution_count": null,
      "outputs": []
    },
    {
      "cell_type": "code",
      "source": [
        "# Dataset Describe\n",
        "titles_df.describe(include='all').T\n"
      ],
      "metadata": {
        "id": "DnOaZdaE5Q5t"
      },
      "execution_count": null,
      "outputs": []
    },
    {
      "cell_type": "code",
      "source": [
        "credits_df.describe(include='all').T"
      ],
      "metadata": {
        "id": "NAaZAtvkC0Px"
      },
      "execution_count": null,
      "outputs": []
    },
    {
      "cell_type": "markdown",
      "source": [
        "### Check Unique Values for each variable."
      ],
      "metadata": {
        "id": "u3PMJOP6ngxN"
      }
    },
    {
      "cell_type": "code",
      "source": [
        "# Check Unique Values for each variable.\n",
        "unique_titles_df = titles_df.nunique()\n",
        "unique_credits_df = credits_df.nunique()\n",
        "\n",
        "print(\"Unique Values in Titles Dataset:\")\n",
        "print(unique_titles_df)\n",
        "\n",
        "print(\"\\nUnique Values in Credits Dataset:\")\n",
        "print(unique_credits_df)"
      ],
      "metadata": {
        "id": "zms12Yq5n-jE"
      },
      "execution_count": null,
      "outputs": []
    },
    {
      "cell_type": "markdown",
      "source": [
        "## 3. ***Data Wrangling***"
      ],
      "metadata": {
        "id": "dauF4eBmngu3"
      }
    },
    {
      "cell_type": "markdown",
      "source": [
        "### Data Wrangling Code"
      ],
      "metadata": {
        "id": "bKJF3rekwFvQ"
      }
    },
    {
      "cell_type": "code",
      "source": [
        "# Merge the two datasets on 'id'\n",
        "merged_df = pd.merge(titles_df, credits_df, on='id', how='left')\n",
        "\n",
        "# Check shape and null values\n",
        "merged_shape = merged_df.shape\n",
        "missing_values = merged_df.isnull().sum()\n",
        "\n",
        "merged_shape, missing_values.sort_values(ascending=False).head(10)\n"
      ],
      "metadata": {
        "id": "wk-9a2fpoLcV"
      },
      "execution_count": null,
      "outputs": []
    },
    {
      "cell_type": "code",
      "source": [
        "pd.set_option('display.max_columns', None)\n",
        "merged_df.head()"
      ],
      "metadata": {
        "id": "MCrD4zpgFm9g"
      },
      "execution_count": null,
      "outputs": []
    },
    {
      "cell_type": "code",
      "source": [
        "# Convert 'release_year' to datetime and extract 'year_released'\n",
        "# Since 'release_year' is only a year, we append '-01-01' to make it a full date\n",
        "\n",
        "merged_df['release_year'] = pd.to_datetime(merged_df['release_year'].astype(str) + '-01-01', errors='coerce')\n",
        "merged_df['year_released'] = merged_df['release_year'].dt.strftime('%Y')\n",
        "\n",
        "# Verify the changes\n",
        "merged_df[['release_year', 'year_released']].head()\n"
      ],
      "metadata": {
        "id": "IPeOFx2xF2P2"
      },
      "execution_count": null,
      "outputs": []
    },
    {
      "cell_type": "code",
      "source": [
        "# 'release_year', 'description', 'imdb_id' Cloums where drops\n",
        "merged_df.drop(['release_year', 'description', 'imdb_id'], inplace= True, axis=1)\n"
      ],
      "metadata": {
        "id": "h8gSJlWbIJbv"
      },
      "execution_count": null,
      "outputs": []
    },
    {
      "cell_type": "code",
      "source": [
        "# dropping imdb votes column\n",
        "\n",
        "merged_df.drop(columns=[\"imdb_votes\"], inplace=True)"
      ],
      "metadata": {
        "id": "MFhcIRoqhnpd"
      },
      "execution_count": null,
      "outputs": []
    },
    {
      "cell_type": "code",
      "source": [
        "#  Replace empty lists with NaN\n",
        "merged_df['production_countries'] = merged_df['production_countries'].apply(lambda x: np.nan if x == [] else x)\n",
        "\n",
        "# Impute missing values with mode\n",
        "mode_country = merged_df['production_countries'].mode()[0]\n",
        "merged_df['production_countries'].fillna(mode_country, inplace=True)\n",
        "\n",
        "# Check number of unique country lists\n",
        "merged_df['production_countries'].nunique()"
      ],
      "metadata": {
        "id": "iA2pPhGpTYvF"
      },
      "execution_count": null,
      "outputs": []
    },
    {
      "cell_type": "code",
      "source": [
        "merged_df['production_countries'] = merged_df['production_countries'].astype(str).str.strip(\"[]\").str.replace(\"'\", \"\").str.split(',').str[0]\n",
        "\n"
      ],
      "metadata": {
        "id": "mHGiCau4WpJ0"
      },
      "execution_count": null,
      "outputs": []
    },
    {
      "cell_type": "code",
      "source": [
        "# creating a new column Country for replaceing name 'production_countries'\n",
        "merged_df['country'] = merged_df['production_countries'].apply(lambda x: x[0] if isinstance(x, list) else x)\n",
        "\n"
      ],
      "metadata": {
        "id": "ryLFV9VdTpIZ"
      },
      "execution_count": null,
      "outputs": []
    },
    {
      "cell_type": "code",
      "source": [
        "merged_df['country'].nunique()\n"
      ],
      "metadata": {
        "id": "dMTi0vAVUvrn"
      },
      "execution_count": null,
      "outputs": []
    },
    {
      "cell_type": "code",
      "source": [
        "merged_df.drop(columns=['production_countries'], inplace=True)\n"
      ],
      "metadata": {
        "id": "6ha59IXnXRVV"
      },
      "execution_count": null,
      "outputs": []
    },
    {
      "cell_type": "code",
      "source": [
        "merged_df['genres'] = merged_df['genres'].apply(lambda x: str(x).replace('[', '').replace(']', '').replace(\"'\", \"\").replace(',', '').strip()if isinstance(x, (str, list)) else x\n",
        ")\n",
        "merged_df['genres']"
      ],
      "metadata": {
        "id": "kU3IED1KYZNX"
      },
      "execution_count": null,
      "outputs": []
    },
    {
      "cell_type": "code",
      "source": [
        "#To fill missing values in age_certification\n",
        "merged_df['age_certification'].fillna(merged_df['age_certification'].mode()[0], inplace=True)\n"
      ],
      "metadata": {
        "id": "qFCJfZW0aTc4"
      },
      "execution_count": null,
      "outputs": []
    },
    {
      "cell_type": "code",
      "source": [
        "# seasons column is filled with data not available\n",
        "\n",
        "merged_df['seasons']= merged_df['seasons'].fillna('No data reported')"
      ],
      "metadata": {
        "id": "EOpjS69YbdmU"
      },
      "execution_count": null,
      "outputs": []
    },
    {
      "cell_type": "code",
      "source": [
        "# data imputation for handling missing values\n",
        "\n",
        "merged_df['imdb_score'].fillna(merged_df['imdb_score'].median(), inplace=True)\n",
        "merged_df['tmdb_popularity'].fillna(merged_df['tmdb_popularity'].mean(), inplace=True)\n",
        "merged_df['tmdb_score'].fillna(merged_df['tmdb_score'].median(), inplace=True)\n",
        "\n",
        "merged_df['imdb_score'] = merged_df['imdb_score'].round(1)\n",
        "merged_df['tmdb_score'] = merged_df['tmdb_score'].round(1)\n",
        "merged_df['tmdb_popularity'] = merged_df['tmdb_popularity'].round(1)"
      ],
      "metadata": {
        "id": "dccFr8I4fiQZ"
      },
      "execution_count": null,
      "outputs": []
    },
    {
      "cell_type": "code",
      "source": [
        "merged_df.dropna(subset=['person_id'], inplace=True)\n"
      ],
      "metadata": {
        "id": "WY2PggpGjpEn"
      },
      "execution_count": null,
      "outputs": []
    },
    {
      "cell_type": "code",
      "source": [
        "# Fill missing values\n",
        "merged_df['character'].fillna('Unknown', inplace=True)\n",
        "merged_df['role'].fillna('Unknown', inplace=True)\n",
        "merged_df['name'].fillna('Unknown', inplace=True)\n",
        "\n",
        "# Reset index after cleaning\n",
        "merged_df.reset_index(drop=True, inplace=True)\n",
        "\n",
        "# Final check on cleaned data\n",
        "cleaned_shape = merged_df.shape\n",
        "remaining_nulls = merged_df.isnull().sum().sort_values(ascending=False).head(10)\n",
        "\n",
        "cleaned_shape, remaining_nulls"
      ],
      "metadata": {
        "id": "xjlWKrSSekwQ"
      },
      "execution_count": null,
      "outputs": []
    },
    {
      "cell_type": "code",
      "source": [
        "merged_df.head()"
      ],
      "metadata": {
        "id": "WCYUMEYCJK77"
      },
      "execution_count": null,
      "outputs": []
    },
    {
      "cell_type": "code",
      "source": [
        "merged_df.isnull().sum()"
      ],
      "metadata": {
        "id": "s6nzeewafEOt"
      },
      "execution_count": null,
      "outputs": []
    },
    {
      "cell_type": "markdown",
      "source": [
        "### What all manipulations have you done and insights you found?"
      ],
      "metadata": {
        "id": "MSa1f5Uengrz"
      }
    },
    {
      "cell_type": "markdown",
      "source": [
        "\n",
        "To prepare the dataset for effective exploratory data analysis, multiple data wrangling steps were performed. First, two separate datasets—`titles.csv` and `credits.csv`—were merged using a left join on the common `id` column. This integration brought together comprehensive metadata and cast/crew details, forming a unified DataFrame ready for in-depth analysis.\n",
        "\n",
        "Next, missing values were systematically handled. For example, missing values in `age_certification` were filled with the mode (most frequent certification) to retain the categorical balance of age ratings. `person_id` nulls (around 1,000 rows) were dropped, as this field is crucial for uniquely identifying individuals in cast data. Columns such as `description` and `imdb_id` were removed entirely due to their limited analytical value or high proportion of missing data.\n",
        "\n",
        "The `genres` and `production_countries` columns were originally stored as string representations of Python lists. These were cleaned and parsed into actual lists using `ast.literal_eval`. Subsequently, to simplify category-based analysis, a new column `country` was extracted from the first element of `production_countries`. Similarly, the `genres` column was cleaned of brackets and quotes and transformed into a clean, comma-separated string to enable readable and meaningful genre-level analysis.\n",
        "\n",
        "Furthermore, the `release_year` column was converted into a datetime format, and a new column `year_released` was created to facilitate time-based trend analysis. Unnecessary columns like `release_year`, `description`, and `imdb_id` were dropped to streamline the dataset.\n",
        "\n",
        "#### Insights Found During Wrangling:\n",
        "\n",
        "* The `seasons` column had missing values primarily for movies, confirming that it's only applicable to TV shows.\n",
        "* A significant number of entries lacked `imdb_score`, `tmdb_score`, or `imdb_votes`, suggesting many titles may not have gained enough visibility or user engagement for rating data.\n",
        "* The original format of genre and country data emphasized the complexity of multi-label classification in entertainment metadata.\n",
        "* There was a heavy skew toward U.S.-produced content, which indicates a possible bias in platform content distribution.\n",
        "* The presence of detailed cast and role data opens up possibilities for actor or role-based trend analysis in future stages.\n"
      ],
      "metadata": {
        "id": "LbyXE7I1olp8"
      }
    },
    {
      "cell_type": "markdown",
      "source": [
        "## ***4. Data Vizualization, Storytelling & Experimenting with charts : Understand the relationships between variables***"
      ],
      "metadata": {
        "id": "GF8Ens_Soomf"
      }
    },
    {
      "cell_type": "markdown",
      "source": [
        "#### Chart - 1 Distribution of Content Type (Movies vs Show)"
      ],
      "metadata": {
        "id": "0wOQAZs5pc--"
      }
    },
    {
      "cell_type": "code",
      "source": [
        "# Distribution of Content Type (Movies vs Show)\n",
        "plt.figure(figsize=(8, 5))\n",
        "type_counts = merged_df['type'].value_counts()\n",
        "sns.barplot(x=type_counts.index, y=type_counts.values, palette='viridis')\n",
        "plt.title('Distribution of Content Type on Amazon Prime', fontsize=14, pad=20)\n",
        "plt.xlabel('Content Type')\n",
        "plt.ylabel('Count')\n",
        "for i, v in enumerate(type_counts.values):\n",
        "    plt.text(i, v + 500, str(v), ha='center', va='bottom')\n",
        "plt.tight_layout()\n",
        "plt.show()"
      ],
      "metadata": {
        "id": "gYHYeRAYSuiS"
      },
      "execution_count": null,
      "outputs": []
    },
    {
      "cell_type": "markdown",
      "source": [
        "##### 1. Why did you pick the specific chart?"
      ],
      "metadata": {
        "id": "K5QZ13OEpz2H"
      }
    },
    {
      "cell_type": "markdown",
      "source": [
        "To compare the number of movies and shows on Amazon Prime."
      ],
      "metadata": {
        "id": "XESiWehPqBRc"
      }
    },
    {
      "cell_type": "markdown",
      "source": [
        "##### 2. What is/are the insight(s) found from the chart?"
      ],
      "metadata": {
        "id": "lQ7QKXXCp7Bj"
      }
    },
    {
      "cell_type": "markdown",
      "source": [
        " Shows whether movies or shows are more prevalent."
      ],
      "metadata": {
        "id": "C_j1G7yiqdRP"
      }
    },
    {
      "cell_type": "markdown",
      "source": [
        "##### 3. Will the gained insights help creating a positive business impact?\n",
        "Positive Impact: Helps in making data-driven decisions about future content acquisition and production.\n",
        "\n",
        "Negative Insight: Over-reliance on one type of content could limit the platform's appeal to a broader audience."
      ],
      "metadata": {
        "id": "448CDAPjqfQr"
      }
    },
    {
      "cell_type": "markdown",
      "source": [
        "Answer Here"
      ],
      "metadata": {
        "id": "3cspy4FjqxJW"
      }
    },
    {
      "cell_type": "markdown",
      "source": [
        "#### Chart - Top 10 Most Frequent Genres on Amazon Prime"
      ],
      "metadata": {
        "id": "KSlN3yHqYklG"
      }
    },
    {
      "cell_type": "code",
      "source": [
        "# Chart - 2 Top 10 Most Frequent Genres on Amazon Prime\n",
        "from collections import Counter\n",
        "\n",
        "# Split genre strings into individual genres and count them\n",
        "genre_series = merged_df['genres'].dropna().str.split(', ')\n",
        "all_genres = genre_series.explode()\n",
        "top_genres = all_genres.value_counts().head(10)\n",
        "\n",
        "# Plotting\n",
        "plt.figure(figsize=(10, 6))\n",
        "sns.barplot(x=top_genres.values, y=top_genres.index, palette='rocket')\n",
        "plt.title('Top 10 Most Frequent Genres on Amazon Prime', fontsize=14)\n",
        "plt.xlabel('Number of Titles', fontsize=12)\n",
        "plt.ylabel('Genre', fontsize=12)\n",
        "plt.show()\n"
      ],
      "metadata": {
        "id": "R4YgtaqtYklH"
      },
      "execution_count": null,
      "outputs": []
    },
    {
      "cell_type": "markdown",
      "source": [
        "##### 1. Why did you pick the specific chart?"
      ],
      "metadata": {
        "id": "t6dVpIINYklI"
      }
    },
    {
      "cell_type": "markdown",
      "source": [
        "To identify the most common genres on Amazon Prime.A horizontal bar chart clearly ranks the top genres by frequency."
      ],
      "metadata": {
        "id": "5aaW0BYyYklI"
      }
    },
    {
      "cell_type": "markdown",
      "source": [
        "##### 2. What is/are the insight(s) found from the chart?"
      ],
      "metadata": {
        "id": "ijmpgYnKYklI"
      }
    },
    {
      "cell_type": "markdown",
      "source": [
        "Popular Genres: Identifies which genres are most prevalent on the platform.\n",
        "Content Preferences: Indicates viewer preferences and content trends."
      ],
      "metadata": {
        "id": "PSx9atu2YklI"
      }
    },
    {
      "cell_type": "markdown",
      "source": [
        "##### 3. Will the gained insights help creating a positive business impact?\n",
        "Are there any insights that lead to negative growth? Justify with specific reason."
      ],
      "metadata": {
        "id": "-JiQyfWJYklI"
      }
    },
    {
      "cell_type": "markdown",
      "source": [
        "Positive Impact: Helps in tailoring content recommendations and acquisition strategies.\n",
        "Negative Insight: Over-reliance on a few genres could limit the platform's appeal to a broader audience."
      ],
      "metadata": {
        "id": "BcBbebzrYklV"
      }
    },
    {
      "cell_type": "markdown",
      "source": [
        "#### Chart - 3 Trend of Content Releases by Year"
      ],
      "metadata": {
        "id": "EM7whBJCYoAo"
      }
    },
    {
      "cell_type": "code",
      "source": [
        "# Trend of Content Releases by Year\n",
        "plt.figure(figsize=(14, 7))\n",
        "yearly_counts = merged_df['year_released'].value_counts().sort_index()\n",
        "plt.plot(yearly_counts.index, yearly_counts.values, marker='o', linewidth=2, markersize=4)\n",
        "plt.title('Trend of Content Releases by Year', fontsize=14)\n",
        "plt.xlabel('Year')\n",
        "plt.ylabel('Number of Titles')\n",
        "plt.grid(True, alpha=0.3)\n",
        "plt.tight_layout()\n",
        "plt.show()\n"
      ],
      "metadata": {
        "id": "t6GMdE67YoAp"
      },
      "execution_count": null,
      "outputs": []
    },
    {
      "cell_type": "markdown",
      "source": [
        "##### 1. Why did you pick the specific chart?"
      ],
      "metadata": {
        "id": "fge-S5ZAYoAp"
      }
    },
    {
      "cell_type": "markdown",
      "source": [
        "To visualize the trend in the number of content releases over the years. A line plot clearly shows the temporal trend and helps identify growth phases or declines.\n"
      ],
      "metadata": {
        "id": "5dBItgRVYoAp"
      }
    },
    {
      "cell_type": "markdown",
      "source": [
        "##### 2. What is/are the insight(s) found from the chart?"
      ],
      "metadata": {
        "id": "85gYPyotYoAp"
      }
    },
    {
      "cell_type": "markdown",
      "source": [
        "Identifies years with significant increases in content releases"
      ],
      "metadata": {
        "id": "4jstXR6OYoAp"
      }
    },
    {
      "cell_type": "markdown",
      "source": [
        "##### 3. Will the gained insights help creating a positive business impact?\n",
        "Are there any insights that lead to negative growth? Justify with specific reason."
      ],
      "metadata": {
        "id": "RoGjAbkUYoAp"
      }
    },
    {
      "cell_type": "markdown",
      "source": [
        "Answer Here"
      ],
      "metadata": {
        "id": "zfJ8IqMcYoAp"
      }
    },
    {
      "cell_type": "markdown",
      "source": [
        "#### Chart - 4 top 10 Release Years by Content Count"
      ],
      "metadata": {
        "id": "4Of9eVA-YrdM"
      }
    },
    {
      "cell_type": "code",
      "source": [
        "# Chart - 4 top 10 Release Years by Content Count\n",
        "# Convert 'year_released' to integer for sorting\n",
        "merged_df['year_released'] = merged_df['year_released'].astype(int)\n",
        "\n",
        "# Group and count by year and type\n",
        "top_years = merged_df['year_released'].value_counts().sort_values(ascending=False).head(10).index\n",
        "filtered_df = merged_df[merged_df['year_released'].isin(top_years)]\n",
        "\n",
        "plt.figure(figsize=(12, 6))\n",
        "sns.countplot(data=filtered_df, x='year_released', hue='type', palette='pastel')\n",
        "plt.title('Top 10 Release Years by Content Count (Movies vs Shows)', fontsize=14)\n",
        "plt.xlabel('Year Released', fontsize=12)\n",
        "plt.ylabel('Number of Titles', fontsize=12)\n",
        "plt.legend(title='Content Type')\n",
        "plt.tight_layout()\n",
        "plt.show()\n"
      ],
      "metadata": {
        "id": "irlUoxc8YrdO"
      },
      "execution_count": null,
      "outputs": []
    },
    {
      "cell_type": "markdown",
      "source": [
        "##### 1. Why did you pick the specific chart?"
      ],
      "metadata": {
        "id": "iky9q4vBYrdO"
      }
    },
    {
      "cell_type": "markdown",
      "source": [
        "o compare the number of movies and shows released in the top 10 years with the highest content count.A grouped bar chart clearly shows the distribution of content types across the top release years."
      ],
      "metadata": {
        "id": "aJRCwT6DYrdO"
      }
    },
    {
      "cell_type": "markdown",
      "source": [
        "##### 2. What is/are the insight(s) found from the chart?"
      ],
      "metadata": {
        "id": "F6T5p64dYrdO"
      }
    },
    {
      "cell_type": "markdown",
      "source": [
        "Identifies the years with the highest number of content releases.\n",
        "Shows the balance between movies and shows in the top release years."
      ],
      "metadata": {
        "id": "Xx8WAJvtYrdO"
      }
    },
    {
      "cell_type": "markdown",
      "source": [
        "#### Chart - 5 Top 10 Countries by Content"
      ],
      "metadata": {
        "id": "bamQiAODYuh1"
      }
    },
    {
      "cell_type": "code",
      "source": [
        "# Chart - Top 10 Countries by Content\n",
        "plt.figure(figsize=(10, 6))\n",
        "country_counts = merged_df['country'].value_counts().head(10)\n",
        "sns.barplot(y=country_counts.index, x=country_counts.values, palette='coolwarm')\n",
        "plt.title('Top 10 Content-Producing Countries', fontsize=14)\n",
        "plt.xlabel('Number of Titles')\n",
        "plt.ylabel('Country')\n",
        "plt.tight_layout()\n",
        "plt.show()"
      ],
      "metadata": {
        "id": "TIJwrbroYuh3"
      },
      "execution_count": null,
      "outputs": []
    },
    {
      "cell_type": "markdown",
      "source": [
        "##### 1. Why did you pick the specific chart?"
      ],
      "metadata": {
        "id": "QHF8YVU7Yuh3"
      }
    },
    {
      "cell_type": "markdown",
      "source": [
        "A horizontal bar chart clearly ranks the top countries by the number of titles produced.To identify the top countries contributing the most content to Amazon Prime."
      ],
      "metadata": {
        "id": "dcxuIMRPYuh3"
      }
    },
    {
      "cell_type": "markdown",
      "source": [
        "##### 2. What is/are the insight(s) found from the chart?"
      ],
      "metadata": {
        "id": "GwzvFGzlYuh3"
      }
    },
    {
      "cell_type": "markdown",
      "source": [
        "Identifies which countries are the primary producers of content on the platform.\n",
        " Highlights any significant dominance by specific countries."
      ],
      "metadata": {
        "id": "uyqkiB8YYuh3"
      }
    },
    {
      "cell_type": "markdown",
      "source": [
        "#### Chart - 6 IMDb Score Distribution"
      ],
      "metadata": {
        "id": "OH-pJp9IphqM"
      }
    },
    {
      "cell_type": "code",
      "source": [
        "# Chart - 6 IMDb Score Distribution\n",
        "plt.figure(figsize=(10, 6))\n",
        "plt.hist(merged_df['imdb_score'], bins=30, alpha=0.7, color='skyblue', edgecolor='black')\n",
        "plt.axvline(merged_df['imdb_score'].mean(), color='red', linestyle='--',\n",
        "            label=f'Mean: {merged_df[\"imdb_score\"].mean():.2f}')\n",
        "plt.title('Distribution of IMDb Scores', fontsize=14)\n",
        "plt.xlabel('IMDb Score')\n",
        "plt.ylabel('Frequency')\n",
        "plt.legend()\n",
        "plt.grid(True, alpha=0.3)\n",
        "plt.tight_layout()\n",
        "plt.show()"
      ],
      "metadata": {
        "id": "kuRf4wtuphqN"
      },
      "execution_count": null,
      "outputs": []
    },
    {
      "cell_type": "markdown",
      "source": [
        "##### 1. Why did you pick the specific chart?"
      ],
      "metadata": {
        "id": "bbFf2-_FphqN"
      }
    },
    {
      "cell_type": "markdown",
      "source": [
        "To visualize the distribution of IMDb scores across all titles.A histogram provides a clear view of the frequency distribution and helps identify the central tendency and spread of the scores."
      ],
      "metadata": {
        "id": "loh7H2nzphqN"
      }
    },
    {
      "cell_type": "markdown",
      "source": [
        "##### 2. What is/are the insight(s) found from the chart?"
      ],
      "metadata": {
        "id": "_ouA3fa0phqN"
      }
    },
    {
      "cell_type": "markdown",
      "source": [
        "Highlights the mean IMDb score, providing a benchmark for average content quality.Shows the range and concentration of IMDb scores."
      ],
      "metadata": {
        "id": "VECbqPI7phqN"
      }
    },
    {
      "cell_type": "markdown",
      "source": [
        "#### Chart - 7 Average IMDB score by Country"
      ],
      "metadata": {
        "id": "PIIx-8_IphqN"
      }
    },
    {
      "cell_type": "code",
      "source": [
        "# Chart - 7 Average IMDb Score by Country\n",
        "country_scores = merged_df.groupby('country')['imdb_score'].agg(['mean', 'count']).reset_index()\n",
        "country_scores = country_scores[country_scores['count'] >= 50].sort_values('mean', ascending=False).head(10)\n",
        "\n",
        "plt.figure(figsize=(10, 6))\n",
        "sns.barplot(data=country_scores, y='country', x='mean', palette='viridis')\n",
        "plt.title('Average IMDb Score by Country (min 50 titles)', fontsize=14)\n",
        "plt.xlabel('Average IMDb Score')\n",
        "plt.ylabel('Country')\n",
        "plt.tight_layout()\n",
        "plt.show()"
      ],
      "metadata": {
        "id": "lqAIGUfyphqO"
      },
      "execution_count": null,
      "outputs": []
    },
    {
      "cell_type": "markdown",
      "source": [
        "##### 1. Why did you pick the specific chart?"
      ],
      "metadata": {
        "id": "t27r6nlMphqO"
      }
    },
    {
      "cell_type": "markdown",
      "source": [
        "To identify countries with the highest average IMDb scores, considering only countries with at least 50 titles to ensure statistical significance.A horizontal bar chart clearly ranks the top countries by average IMDb score."
      ],
      "metadata": {
        "id": "iv6ro40sphqO"
      }
    },
    {
      "cell_type": "markdown",
      "source": [
        "##### 2. What is/are the insight(s) found from the chart?"
      ],
      "metadata": {
        "id": "r2jJGEOYphqO"
      }
    },
    {
      "cell_type": "markdown",
      "source": [
        "Identifies which countries produce content with higher average IMDb scores. Highlights regions that consistently produce high-quality content.Answer Here"
      ],
      "metadata": {
        "id": "Po6ZPi4hphqO"
      }
    },
    {
      "cell_type": "markdown",
      "source": [
        "#### Chart - 8 Movies and Shows count by Age Certification\n"
      ],
      "metadata": {
        "id": "BZR9WyysphqO"
      }
    },
    {
      "cell_type": "code",
      "source": [
        "# Movies and Shows count by Age Certification\n",
        "plt.figure(figsize=(12, 6))\n",
        "sns.countplot(data=merged_df, x='age_certification', hue='type', palette='Set2')\n",
        "plt.title('Count of Movies and Shows by Age Certification', fontsize=14)\n",
        "plt.xlabel('Age Certification', fontsize=12)\n",
        "plt.ylabel('Number of Titles', fontsize=12)\n",
        "plt.legend(title='Type of Content', loc='upper right')\n",
        "plt.xticks(rotation=45)\n",
        "plt.tight_layout()\n",
        "plt.show()\n"
      ],
      "metadata": {
        "id": "oe9MracyZ7NZ"
      },
      "execution_count": null,
      "outputs": []
    },
    {
      "cell_type": "markdown",
      "source": [
        "##### 1. Why did you pick the specific chart?"
      ],
      "metadata": {
        "id": "jj7wYXLtphqO"
      }
    },
    {
      "cell_type": "markdown",
      "source": [
        "To compare the number of movies and shows across different age certifications.\n",
        "A grouped bar chart clearly shows the distribution of content types by age certification."
      ],
      "metadata": {
        "id": "Ob8u6rCTphqO"
      }
    },
    {
      "cell_type": "markdown",
      "source": [
        "##### 2. What is/are the insight(s) found from the chart?"
      ],
      "metadata": {
        "id": "eZrbJ2SmphqO"
      }
    },
    {
      "cell_type": "markdown",
      "source": [
        "Helps in understanding the platform's content strategy and identifying successful age certifications.Identifies any imbalance between content types for different age groups, indicating potential areas for diversification."
      ],
      "metadata": {
        "id": "mZtgC_hjphqO"
      }
    },
    {
      "cell_type": "markdown",
      "source": [
        "#### Chart - 9"
      ],
      "metadata": {
        "id": "YJ55k-q6phqO"
      }
    },
    {
      "cell_type": "code",
      "source": [
        "# Chart - 9 visualization code\n",
        "# Calculate average IMDb scores over the years\n",
        "average_imdb_by_year = merged_df.groupby('year_released')['imdb_score'].mean()\n",
        "\n",
        "plt.figure(figsize=(12, 6))\n",
        "plt.plot(average_imdb_by_year.index, average_imdb_by_year.values, marker='o', color='green')\n",
        "plt.title('Time Series of Average IMDb Scores Over the Years', fontsize=14)\n",
        "plt.xlabel('Year Released', fontsize=12)\n",
        "plt.ylabel('Average IMDb Score', fontsize=12)\n",
        "plt.grid(True)\n",
        "plt.tight_layout()\n",
        "plt.show()\n"
      ],
      "metadata": {
        "id": "B2aS4O1ophqO"
      },
      "execution_count": null,
      "outputs": []
    },
    {
      "cell_type": "markdown",
      "source": [
        "##### 1. Why did you pick the specific chart?"
      ],
      "metadata": {
        "id": "gCFgpxoyphqP"
      }
    },
    {
      "cell_type": "markdown",
      "source": [
        "To visualize how the average IMDb scores have changed over the years.\n",
        "A line plot clearly shows the temporal trend in average IMDb scores."
      ],
      "metadata": {
        "id": "TVxDimi2phqP"
      }
    },
    {
      "cell_type": "markdown",
      "source": [
        "##### 2. What is/are the insight(s) found from the chart?"
      ],
      "metadata": {
        "id": "OVtJsKN_phqQ"
      }
    },
    {
      "cell_type": "markdown",
      "source": [
        "Identifies years with higher or lower average IMDb scores, indicating changes in content quality over time.\n",
        "Highlights any significant fluctuations or trends in content quality."
      ],
      "metadata": {
        "id": "ngGi97qjphqQ"
      }
    },
    {
      "cell_type": "markdown",
      "source": [
        "#### Chart - 10 Correlation Heatmap"
      ],
      "metadata": {
        "id": "U2RJ9gkRphqQ"
      }
    },
    {
      "cell_type": "code",
      "source": [
        "# Chart - 10 Correlation Heatmap\n",
        "plt.figure(figsize=(10, 8))\n",
        "numerical_cols = ['year_released', 'runtime', 'imdb_score', 'imdb_votes', 'tmdb_popularity', 'tmdb_score']\n",
        "available_cols = [col for col in numerical_cols if col in merged_df.columns]\n",
        "correlation_matrix = merged_df[available_cols].corr()\n",
        "\n",
        "sns.heatmap(correlation_matrix, annot=True, cmap='coolwarm', center=0,\n",
        "            square=True, linewidths=0.5, cbar_kws={\"shrink\": .8})\n",
        "plt.title('Correlation Heatmap of Numerical Variables', fontsize=14)\n",
        "plt.tight_layout()\n",
        "plt.show()\n"
      ],
      "metadata": {
        "id": "GM7a4YP4phqQ"
      },
      "execution_count": null,
      "outputs": []
    },
    {
      "cell_type": "markdown",
      "source": [
        "##### 1. Why did you pick the specific chart?"
      ],
      "metadata": {
        "id": "1M8mcRywphqQ"
      }
    },
    {
      "cell_type": "markdown",
      "source": [
        "To visualize the correlation between numerical variables in the dataset.\n",
        "A heatmap provides a clear and intuitive way to see the relationships between different numerical attributes."
      ],
      "metadata": {
        "id": "8agQvks0phqQ"
      }
    },
    {
      "cell_type": "markdown",
      "source": [
        "##### 2. What is/are the insight(s) found from the chart?"
      ],
      "metadata": {
        "id": "tgIPom80phqQ"
      }
    },
    {
      "cell_type": "markdown",
      "source": [
        "Correlation Analysis: Identifies which variables are positively or negatively correlated.\n",
        "Strong Relationships: Highlights strong correlations that might indicate important relationships, such as between runtime and IMDb score."
      ],
      "metadata": {
        "id": "Qp13pnNzphqQ"
      }
    },
    {
      "cell_type": "markdown",
      "source": [
        "#### Chart - 11 Top 10 Most Prolific Directors on Amazon Prime"
      ],
      "metadata": {
        "id": "x-EpHcCOp1ci"
      }
    },
    {
      "cell_type": "code",
      "source": [
        "# Chart - 11 Top 10 Most Prolific Directors on Amazon Prime\n",
        "director_data = merged_df[merged_df['role'] == 'DIRECTOR']\n",
        "if not director_data.empty:\n",
        "    top_directors = director_data['name'].value_counts().head(10)\n",
        "\n",
        "    plt.figure(figsize=(12, 6))\n",
        "    sns.barplot(y=top_directors.index, x=top_directors.values, palette='plasma')\n",
        "    plt.title('Top 10 Most Prolific Directors on Amazon Prime', fontsize=14)\n",
        "    plt.xlabel('Number of Titles')\n",
        "    plt.ylabel('Director Name')\n",
        "    plt.tight_layout()\n",
        "    plt.show()\n",
        "else:\n",
        "    print(\"No director data available\")"
      ],
      "metadata": {
        "id": "mAQTIvtqp1cj"
      },
      "execution_count": null,
      "outputs": []
    },
    {
      "cell_type": "markdown",
      "source": [
        "##### 1. Why did you pick the specific chart?"
      ],
      "metadata": {
        "id": "X_VqEhTip1ck"
      }
    },
    {
      "cell_type": "markdown",
      "source": [
        "To identify the most prolific directors on Amazon Prime.\n",
        " A horizontal bar chart clearly ranks the top directors by the number of titles they have directed."
      ],
      "metadata": {
        "id": "-vsMzt_np1ck"
      }
    },
    {
      "cell_type": "markdown",
      "source": [
        "##### 2. What is/are the insight(s) found from the chart?"
      ],
      "metadata": {
        "id": "8zGJKyg5p1ck"
      }
    },
    {
      "cell_type": "markdown",
      "source": [
        "Director Activity: Identifies which directors have the most titles on the platform.\n",
        "Content Strategy: Highlights directors who might be key figures for future content acquisition or collaboration."
      ],
      "metadata": {
        "id": "ZYdMsrqVp1ck"
      }
    },
    {
      "cell_type": "markdown",
      "source": [
        "# **Conclusion**"
      ],
      "metadata": {
        "id": "gCX9965dhzqZ"
      }
    },
    {
      "cell_type": "markdown",
      "source": [
        "In conclusion, this Exploratory Data Analysis (EDA) on the Amazon Prime Video content library has provided valuable insights into the platform's content strategy, audience preferences, and market trends. The analysis revealed that genres like \"Drama,\" \"Comedy,\" and \"Action\" are the most prevalent, indicating a strong focus on content that appeals to a broad audience. The United States is the primary producer of content, followed by other countries like the United Kingdom and India, highlighting the platform's reliance on major production hubs. The trend analysis showed a steady increase in content releases over the years, suggesting a strategic expansion to meet growing demand. The average IMDb scores have fluctuated, indicating variability in content quality, but the overall trend suggests a focus on maintaining high standards. The analysis also identified the most prolific directors on the platform, suggesting that certain directors have a significant impact on content popularity and success. These insights can help Amazon Prime tailor its content acquisition and production strategies to better align with audience preferences and market trends, enhance user engagement, and drive subscription growth. However, the dominance of specific genres and countries could limit the platform's appeal to a broader audience, suggesting a need for diversification. By focusing on quality, leveraging popular directors, and regularly monitoring trends, Amazon Prime can continue to optimize its content strategy and enhance user experience in the competitive streaming industry."
      ],
      "metadata": {
        "id": "Fjb1IsQkh3yE"
      }
    }
  ]
}